{
  "nbformat": 4,
  "nbformat_minor": 0,
  "metadata": {
    "colab": {
      "name": "vgg16",
      "provenance": [],
      "collapsed_sections": []
    },
    "kernelspec": {
      "name": "python3",
      "display_name": "Python 3"
    },
    "language_info": {
      "name": "python"
    },
    "accelerator": "GPU"
  },
  "cells": [
    {
      "cell_type": "code",
      "execution_count": null,
      "metadata": {
        "id": "UojC1N9MScPb"
      },
      "outputs": [],
      "source": [
        "import keras,os\n",
        "from keras.models import Sequential\n",
        "from keras.layers import Dense, Conv2D, MaxPool2D , Flatten\n",
        "from keras.preprocessing.image import ImageDataGenerator\n",
        "import numpy as np\n",
        "import tensorflow as tf  \n",
        "from tensorflow.keras.layers import BatchNormalization\n",
        "from tensorflow.keras.layers import GlobalAveragePooling2D\n",
        "from keras.layers import Dropout\n",
        "from tensorflow.keras.optimizers import SGD"
      ]
    },
    {
      "cell_type": "code",
      "source": [
        "trdata = ImageDataGenerator()\n",
        "traindata = trdata.flow_from_directory(directory=\"/...path.../Train\",target_size=(244,244))\n",
        "tsdata = ImageDataGenerator()\n",
        "testdata = tsdata.flow_from_directory(directory=\"/...path.../Test\", target_size=(244,244))"
      ],
      "metadata": {
        "id": "MmPSm-MfkpxJ",
        "colab": {
          "base_uri": "https://localhost:8080/"
        },
        "outputId": "3b1efa97-0a00-4045-af8e-2d340a8f8c23"
      },
      "execution_count": null,
      "outputs": [
        {
          "output_type": "stream",
          "name": "stdout",
          "text": [
            "Found 5613 images belonging to 6 classes.\n",
            "Found 600 images belonging to 6 classes.\n"
          ]
        }
      ]
    },
    {
      "cell_type": "code",
      "source": [
        "#Updated architecture with Batch Normalization and Drop out\n",
        "from tensorflow.keras.optimizers import SGD\n",
        "\n",
        "model = Sequential()\n",
        "model.add(Conv2D(input_shape=(224,224,3),filters=64,kernel_size=(3,3),padding=\"same\", activation=\"relu\"))\n",
        "model.add(BatchNormalization())\n",
        "model.add(Conv2D(filters=64,kernel_size=(3,3),padding=\"same\", activation=\"relu\"))\n",
        "model.add(BatchNormalization())\n",
        "model.add(MaxPool2D(pool_size=(2,2),strides=(2,2)))\n",
        "\n",
        "model.add(Conv2D(filters=128, kernel_size=(3,3), padding=\"same\", activation=\"relu\"))\n",
        "model.add(BatchNormalization())\n",
        "model.add(Conv2D(filters=128, kernel_size=(3,3), padding=\"same\", activation=\"relu\"))\n",
        "model.add(BatchNormalization())\n",
        "model.add(MaxPool2D(pool_size=(2,2),strides=(2,2)))\n",
        "\n",
        "model.add(Conv2D(filters=256, kernel_size=(3,3), padding=\"same\", activation=\"relu\"))\n",
        "model.add(BatchNormalization())\n",
        "model.add(Conv2D(filters=256, kernel_size=(3,3), padding=\"same\", activation=\"relu\"))\n",
        "model.add(BatchNormalization())\n",
        "model.add(Conv2D(filters=256, kernel_size=(3,3), padding=\"same\", activation=\"relu\"))\n",
        "model.add(BatchNormalization())\n",
        "model.add(MaxPool2D(pool_size=(2,2),strides=(2,2)))\n",
        "\n",
        "model.add(Conv2D(filters=512, kernel_size=(3,3), padding=\"same\", activation=\"relu\"))\n",
        "model.add(BatchNormalization())\n",
        "model.add(Conv2D(filters=512, kernel_size=(3,3), padding=\"same\", activation=\"relu\"))\n",
        "model.add(BatchNormalization())\n",
        "model.add(Conv2D(filters=512, kernel_size=(3,3), padding=\"same\", activation=\"relu\"))\n",
        "model.add(BatchNormalization())\n",
        "model.add(MaxPool2D(pool_size=(2,2),strides=(2,2)))\n",
        "\n",
        "model.add(Conv2D(filters=512, kernel_size=(3,3), padding=\"same\", activation=\"relu\"))\n",
        "model.add(BatchNormalization())\n",
        "model.add(Conv2D(filters=512, kernel_size=(3,3), padding=\"same\", activation=\"relu\"))\n",
        "model.add(BatchNormalization())\n",
        "model.add(Conv2D(filters=512, kernel_size=(3,3), padding=\"same\", activation=\"relu\"))\n",
        "model.add(BatchNormalization())\n",
        "model.add(MaxPool2D(pool_size=(2,2),strides=(2,2),name='vgg16'))\n",
        "\n",
        "model.add(Flatten(name='flatten'))\n",
        "model.add(Dropout(0.2))\n",
        "model.add(Dense(256, activation='relu', name='fc1'))\n",
        "model.add(Dropout(0.2))\n",
        "model.add(Dense(128, activation='relu', name='fc2'))\n",
        "model.add(Dropout(0.2))\n",
        "model.add(Dense(6, activation='softmax', name='output'))\n",
        "\n",
        "opt = SGD(learning_rate=1e-4, momentum=0.9)\n",
        "model.compile(loss=\"binary_crossentropy\", optimizer=opt,metrics=[\"accuracy\"])"
      ],
      "metadata": {
        "id": "KW_SdG8Sz0nA"
      },
      "execution_count": null,
      "outputs": []
    },
    {
      "cell_type": "code",
      "source": [
        "#original - no batch/dropout\n",
        "from tensorflow.keras.optimizers import SGD\n",
        "\n",
        "model = Sequential()\n",
        "model.add(Conv2D(input_shape=(224,224,3),filters=64,kernel_size=(3,3),padding=\"same\", activation=\"relu\"))\n",
        "model.add(Conv2D(filters=64,kernel_size=(3,3),padding=\"same\", activation=\"relu\"))\n",
        "model.add(MaxPool2D(pool_size=(2,2),strides=(2,2)))\n",
        "model.add(Conv2D(filters=128, kernel_size=(3,3), padding=\"same\", activation=\"relu\"))\n",
        "model.add(Conv2D(filters=128, kernel_size=(3,3), padding=\"same\", activation=\"relu\"))\n",
        "model.add(MaxPool2D(pool_size=(2,2),strides=(2,2)))\n",
        "model.add(Conv2D(filters=256, kernel_size=(3,3), padding=\"same\", activation=\"relu\"))\n",
        "model.add(Conv2D(filters=256, kernel_size=(3,3), padding=\"same\", activation=\"relu\"))\n",
        "model.add(Conv2D(filters=256, kernel_size=(3,3), padding=\"same\", activation=\"relu\"))\n",
        "model.add(MaxPool2D(pool_size=(2,2),strides=(2,2)))\n",
        "model.add(Conv2D(filters=512, kernel_size=(3,3), padding=\"same\", activation=\"relu\"))\n",
        "model.add(Conv2D(filters=512, kernel_size=(3,3), padding=\"same\", activation=\"relu\"))\n",
        "model.add(Conv2D(filters=512, kernel_size=(3,3), padding=\"same\", activation=\"relu\"))\n",
        "model.add(MaxPool2D(pool_size=(2,2),strides=(2,2)))\n",
        "model.add(Conv2D(filters=512, kernel_size=(3,3), padding=\"same\", activation=\"relu\"))\n",
        "model.add(Conv2D(filters=512, kernel_size=(3,3), padding=\"same\", activation=\"relu\"))\n",
        "model.add(Conv2D(filters=512, kernel_size=(3,3), padding=\"same\", activation=\"relu\"))\n",
        "model.add(MaxPool2D(pool_size=(2,2),strides=(2,2),name='vgg16'))\n",
        "model.add(Flatten(name='flatten'))\n",
        "model.add(Dense(256, activation='relu', name='fc1'))\n",
        "model.add(Dense(128, activation='relu', name='fc2'))\n",
        "model.add(Dense(6, activation='softmax', name='output'))\n",
        "opt = SGD(learning_rate=1e-4, momentum=0.9)\n",
        "model.compile(loss=\"binary_crossentropy\", optimizer=opt,metrics=[\"accuracy\"])"
      ],
      "metadata": {
        "id": "CJ4I3WCgksP5"
      },
      "execution_count": null,
      "outputs": []
    },
    {
      "cell_type": "code",
      "source": [
        "model.summary()"
      ],
      "metadata": {
        "colab": {
          "base_uri": "https://localhost:8080/"
        },
        "id": "DmdltjT78ono",
        "outputId": "c471a8c2-32f1-4581-8eac-81f832e025af"
      },
      "execution_count": null,
      "outputs": [
        {
          "output_type": "stream",
          "name": "stdout",
          "text": [
            "Model: \"sequential\"\n",
            "_________________________________________________________________\n",
            " Layer (type)                Output Shape              Param #   \n",
            "=================================================================\n",
            " conv2d (Conv2D)             (None, 224, 224, 64)      1792      \n",
            "                                                                 \n",
            " batch_normalization (BatchN  (None, 224, 224, 64)     256       \n",
            " ormalization)                                                   \n",
            "                                                                 \n",
            " conv2d_1 (Conv2D)           (None, 224, 224, 64)      36928     \n",
            "                                                                 \n",
            " batch_normalization_1 (Batc  (None, 224, 224, 64)     256       \n",
            " hNormalization)                                                 \n",
            "                                                                 \n",
            " max_pooling2d (MaxPooling2D  (None, 112, 112, 64)     0         \n",
            " )                                                               \n",
            "                                                                 \n",
            " conv2d_2 (Conv2D)           (None, 112, 112, 128)     73856     \n",
            "                                                                 \n",
            " batch_normalization_2 (Batc  (None, 112, 112, 128)    512       \n",
            " hNormalization)                                                 \n",
            "                                                                 \n",
            " conv2d_3 (Conv2D)           (None, 112, 112, 128)     147584    \n",
            "                                                                 \n",
            " batch_normalization_3 (Batc  (None, 112, 112, 128)    512       \n",
            " hNormalization)                                                 \n",
            "                                                                 \n",
            " max_pooling2d_1 (MaxPooling  (None, 56, 56, 128)      0         \n",
            " 2D)                                                             \n",
            "                                                                 \n",
            " conv2d_4 (Conv2D)           (None, 56, 56, 256)       295168    \n",
            "                                                                 \n",
            " batch_normalization_4 (Batc  (None, 56, 56, 256)      1024      \n",
            " hNormalization)                                                 \n",
            "                                                                 \n",
            " conv2d_5 (Conv2D)           (None, 56, 56, 256)       590080    \n",
            "                                                                 \n",
            " batch_normalization_5 (Batc  (None, 56, 56, 256)      1024      \n",
            " hNormalization)                                                 \n",
            "                                                                 \n",
            " conv2d_6 (Conv2D)           (None, 56, 56, 256)       590080    \n",
            "                                                                 \n",
            " batch_normalization_6 (Batc  (None, 56, 56, 256)      1024      \n",
            " hNormalization)                                                 \n",
            "                                                                 \n",
            " max_pooling2d_2 (MaxPooling  (None, 28, 28, 256)      0         \n",
            " 2D)                                                             \n",
            "                                                                 \n",
            " conv2d_7 (Conv2D)           (None, 28, 28, 512)       1180160   \n",
            "                                                                 \n",
            " batch_normalization_7 (Batc  (None, 28, 28, 512)      2048      \n",
            " hNormalization)                                                 \n",
            "                                                                 \n",
            " conv2d_8 (Conv2D)           (None, 28, 28, 512)       2359808   \n",
            "                                                                 \n",
            " batch_normalization_8 (Batc  (None, 28, 28, 512)      2048      \n",
            " hNormalization)                                                 \n",
            "                                                                 \n",
            " conv2d_9 (Conv2D)           (None, 28, 28, 512)       2359808   \n",
            "                                                                 \n",
            " batch_normalization_9 (Batc  (None, 28, 28, 512)      2048      \n",
            " hNormalization)                                                 \n",
            "                                                                 \n",
            " max_pooling2d_3 (MaxPooling  (None, 14, 14, 512)      0         \n",
            " 2D)                                                             \n",
            "                                                                 \n",
            " conv2d_10 (Conv2D)          (None, 14, 14, 512)       2359808   \n",
            "                                                                 \n",
            " batch_normalization_10 (Bat  (None, 14, 14, 512)      2048      \n",
            " chNormalization)                                                \n",
            "                                                                 \n",
            " conv2d_11 (Conv2D)          (None, 14, 14, 512)       2359808   \n",
            "                                                                 \n",
            " batch_normalization_11 (Bat  (None, 14, 14, 512)      2048      \n",
            " chNormalization)                                                \n",
            "                                                                 \n",
            " conv2d_12 (Conv2D)          (None, 14, 14, 512)       2359808   \n",
            "                                                                 \n",
            " batch_normalization_12 (Bat  (None, 14, 14, 512)      2048      \n",
            " chNormalization)                                                \n",
            "                                                                 \n",
            " vgg16 (MaxPooling2D)        (None, 7, 7, 512)         0         \n",
            "                                                                 \n",
            " flatten (Flatten)           (None, 25088)             0         \n",
            "                                                                 \n",
            " dropout (Dropout)           (None, 25088)             0         \n",
            "                                                                 \n",
            " fc1 (Dense)                 (None, 256)               6422784   \n",
            "                                                                 \n",
            " dropout_1 (Dropout)         (None, 256)               0         \n",
            "                                                                 \n",
            " fc2 (Dense)                 (None, 128)               32896     \n",
            "                                                                 \n",
            " dropout_2 (Dropout)         (None, 128)               0         \n",
            "                                                                 \n",
            " output (Dense)              (None, 6)                 774       \n",
            "                                                                 \n",
            "=================================================================\n",
            "Total params: 21,188,038\n",
            "Trainable params: 21,179,590\n",
            "Non-trainable params: 8,448\n",
            "_________________________________________________________________\n"
          ]
        }
      ]
    },
    {
      "cell_type": "code",
      "source": [
        "import math\n",
        "import numpy as np\n",
        "BATCH_SIZE=32\n",
        "TRAINING_SIZE = 5613\n",
        "VALIDATION_SIZE = 600\n",
        "\n",
        "# We take the ceiling because we do not drop the remainder of the batch\n",
        "compute_steps_per_epoch = lambda x: int(math.ceil(1. * x / BATCH_SIZE))\n",
        "\n",
        "steps_per_epoch = compute_steps_per_epoch(TRAINING_SIZE)\n",
        "val_steps = compute_steps_per_epoch(VALIDATION_SIZE)\n",
        "print(steps_per_epoch)\n",
        "print(val_steps)"
      ],
      "metadata": {
        "colab": {
          "base_uri": "https://localhost:8080/"
        },
        "id": "eHhewTIYkni_",
        "outputId": "6acc0d8f-1128-4e4c-ebc5-b82994969b2f"
      },
      "execution_count": null,
      "outputs": [
        {
          "output_type": "stream",
          "name": "stdout",
          "text": [
            "176\n",
            "19\n"
          ]
        }
      ]
    },
    {
      "cell_type": "code",
      "source": [
        "from keras import callbacks\n",
        "earlystopping = callbacks.EarlyStopping(monitor =\"val_loss\", mode =\"min\", patience = 5, restore_best_weights = True)\n",
        "  \n",
        "#history = model.fit(generator=traindata, validation_data= testdata, epochs = 25, validation_data =(val_images, val_labels),callbacks =[earlystopping])\n",
        "hist = model.fit(\n",
        "    traindata, \n",
        "    steps_per_epoch = 176, \n",
        "    epochs = 100, \n",
        "    validation_data = testdata, \n",
        "    validation_steps = 19,\n",
        "    callbacks = [earlystopping]\n",
        ")"
      ],
      "metadata": {
        "id": "eeR5z_BYkxo4",
        "colab": {
          "base_uri": "https://localhost:8080/"
        },
        "outputId": "8d2749d6-3ec3-4b64-8a2a-f0d674ebb460"
      },
      "execution_count": null,
      "outputs": [
        {
          "output_type": "stream",
          "name": "stdout",
          "text": [
            "Epoch 1/100\n",
            "176/176 [==============================] - 4006s 23s/step - loss: 0.6008 - accuracy: 0.1969 - val_loss: 0.7956 - val_accuracy: 0.1750\n",
            "Epoch 2/100\n",
            "176/176 [==============================] - 107s 604ms/step - loss: 0.4862 - accuracy: 0.2605 - val_loss: 0.4662 - val_accuracy: 0.2633\n",
            "Epoch 3/100\n",
            "176/176 [==============================] - 109s 620ms/step - loss: 0.4545 - accuracy: 0.3182 - val_loss: 0.3994 - val_accuracy: 0.4200\n",
            "Epoch 4/100\n",
            "176/176 [==============================] - 111s 629ms/step - loss: 0.4244 - accuracy: 0.3814 - val_loss: 0.3775 - val_accuracy: 0.4650\n",
            "Epoch 5/100\n",
            "176/176 [==============================] - 111s 630ms/step - loss: 0.4073 - accuracy: 0.4242 - val_loss: 0.3686 - val_accuracy: 0.4617\n",
            "Epoch 6/100\n",
            "176/176 [==============================] - 111s 630ms/step - loss: 0.3958 - accuracy: 0.4361 - val_loss: 0.3723 - val_accuracy: 0.4650\n",
            "Epoch 7/100\n",
            "176/176 [==============================] - 111s 630ms/step - loss: 0.3822 - accuracy: 0.4709 - val_loss: 0.3476 - val_accuracy: 0.5533\n",
            "Epoch 8/100\n",
            "176/176 [==============================] - 111s 630ms/step - loss: 0.3644 - accuracy: 0.4981 - val_loss: 0.3324 - val_accuracy: 0.5800\n",
            "Epoch 9/100\n",
            "176/176 [==============================] - 111s 630ms/step - loss: 0.3524 - accuracy: 0.5254 - val_loss: 0.3371 - val_accuracy: 0.5317\n",
            "Epoch 10/100\n",
            "176/176 [==============================] - 111s 630ms/step - loss: 0.3422 - accuracy: 0.5462 - val_loss: 0.3166 - val_accuracy: 0.5467\n",
            "Epoch 11/100\n",
            "176/176 [==============================] - 111s 630ms/step - loss: 0.3317 - accuracy: 0.5633 - val_loss: 0.3368 - val_accuracy: 0.5333\n",
            "Epoch 12/100\n",
            "176/176 [==============================] - 111s 630ms/step - loss: 0.3223 - accuracy: 0.5803 - val_loss: 0.3111 - val_accuracy: 0.5750\n",
            "Epoch 13/100\n",
            "176/176 [==============================] - 111s 630ms/step - loss: 0.3100 - accuracy: 0.5968 - val_loss: 0.2932 - val_accuracy: 0.6183\n",
            "Epoch 14/100\n",
            "176/176 [==============================] - 111s 630ms/step - loss: 0.3003 - accuracy: 0.6173 - val_loss: 0.2944 - val_accuracy: 0.6167\n",
            "Epoch 15/100\n",
            "176/176 [==============================] - 111s 630ms/step - loss: 0.2961 - accuracy: 0.6243 - val_loss: 0.2741 - val_accuracy: 0.6500\n",
            "Epoch 16/100\n",
            "176/176 [==============================] - 111s 630ms/step - loss: 0.2907 - accuracy: 0.6382 - val_loss: 0.2832 - val_accuracy: 0.6333\n",
            "Epoch 17/100\n",
            "176/176 [==============================] - 111s 630ms/step - loss: 0.2778 - accuracy: 0.6535 - val_loss: 0.2678 - val_accuracy: 0.6550\n",
            "Epoch 18/100\n",
            "176/176 [==============================] - 111s 630ms/step - loss: 0.2721 - accuracy: 0.6586 - val_loss: 0.2723 - val_accuracy: 0.6483\n",
            "Epoch 19/100\n",
            "176/176 [==============================] - 111s 630ms/step - loss: 0.2657 - accuracy: 0.6708 - val_loss: 0.2599 - val_accuracy: 0.6667\n",
            "Epoch 20/100\n",
            "176/176 [==============================] - 111s 630ms/step - loss: 0.2600 - accuracy: 0.6786 - val_loss: 0.2595 - val_accuracy: 0.6717\n",
            "Epoch 21/100\n",
            "176/176 [==============================] - 111s 630ms/step - loss: 0.2515 - accuracy: 0.6966 - val_loss: 0.2567 - val_accuracy: 0.6883\n",
            "Epoch 22/100\n",
            "176/176 [==============================] - 111s 630ms/step - loss: 0.2454 - accuracy: 0.7073 - val_loss: 0.2513 - val_accuracy: 0.6983\n",
            "Epoch 23/100\n",
            "176/176 [==============================] - 111s 630ms/step - loss: 0.2388 - accuracy: 0.7139 - val_loss: 0.2497 - val_accuracy: 0.6667\n",
            "Epoch 24/100\n",
            "176/176 [==============================] - 111s 630ms/step - loss: 0.2289 - accuracy: 0.7285 - val_loss: 0.2458 - val_accuracy: 0.6900\n",
            "Epoch 25/100\n",
            "176/176 [==============================] - 111s 630ms/step - loss: 0.2230 - accuracy: 0.7356 - val_loss: 0.2392 - val_accuracy: 0.7117\n",
            "Epoch 26/100\n",
            "176/176 [==============================] - 111s 630ms/step - loss: 0.2203 - accuracy: 0.7442 - val_loss: 0.2422 - val_accuracy: 0.6883\n",
            "Epoch 27/100\n",
            "176/176 [==============================] - 111s 630ms/step - loss: 0.2178 - accuracy: 0.7497 - val_loss: 0.2459 - val_accuracy: 0.6967\n",
            "Epoch 28/100\n",
            "176/176 [==============================] - 111s 630ms/step - loss: 0.2095 - accuracy: 0.7591 - val_loss: 0.2319 - val_accuracy: 0.7200\n",
            "Epoch 29/100\n",
            "176/176 [==============================] - 111s 630ms/step - loss: 0.2024 - accuracy: 0.7723 - val_loss: 0.2299 - val_accuracy: 0.7233\n",
            "Epoch 30/100\n",
            "176/176 [==============================] - 111s 630ms/step - loss: 0.2002 - accuracy: 0.7761 - val_loss: 0.2489 - val_accuracy: 0.6767\n",
            "Epoch 31/100\n",
            "176/176 [==============================] - 111s 630ms/step - loss: 0.1971 - accuracy: 0.7766 - val_loss: 0.2293 - val_accuracy: 0.7183\n",
            "Epoch 32/100\n",
            "176/176 [==============================] - 111s 630ms/step - loss: 0.1905 - accuracy: 0.7837 - val_loss: 0.2330 - val_accuracy: 0.7100\n",
            "Epoch 33/100\n",
            "176/176 [==============================] - 111s 630ms/step - loss: 0.1865 - accuracy: 0.7971 - val_loss: 0.2314 - val_accuracy: 0.7150\n",
            "Epoch 34/100\n",
            "176/176 [==============================] - 111s 630ms/step - loss: 0.1814 - accuracy: 0.8019 - val_loss: 0.2252 - val_accuracy: 0.7250\n",
            "Epoch 35/100\n",
            "176/176 [==============================] - 111s 630ms/step - loss: 0.1719 - accuracy: 0.8183 - val_loss: 0.2280 - val_accuracy: 0.7217\n",
            "Epoch 36/100\n",
            "176/176 [==============================] - 111s 630ms/step - loss: 0.1709 - accuracy: 0.8142 - val_loss: 0.2239 - val_accuracy: 0.7300\n",
            "Epoch 37/100\n",
            "176/176 [==============================] - 111s 630ms/step - loss: 0.1708 - accuracy: 0.8142 - val_loss: 0.2248 - val_accuracy: 0.7283\n",
            "Epoch 38/100\n",
            "176/176 [==============================] - 111s 630ms/step - loss: 0.1621 - accuracy: 0.8297 - val_loss: 0.2231 - val_accuracy: 0.7350\n",
            "Epoch 39/100\n",
            "176/176 [==============================] - 111s 630ms/step - loss: 0.1588 - accuracy: 0.8300 - val_loss: 0.2208 - val_accuracy: 0.7167\n",
            "Epoch 40/100\n",
            "176/176 [==============================] - 111s 630ms/step - loss: 0.1544 - accuracy: 0.8386 - val_loss: 0.2163 - val_accuracy: 0.7383\n",
            "Epoch 41/100\n",
            "176/176 [==============================] - 111s 631ms/step - loss: 0.1495 - accuracy: 0.8422 - val_loss: 0.2137 - val_accuracy: 0.7483\n",
            "Epoch 42/100\n",
            "176/176 [==============================] - 111s 630ms/step - loss: 0.1506 - accuracy: 0.8454 - val_loss: 0.2142 - val_accuracy: 0.7300\n",
            "Epoch 43/100\n",
            "176/176 [==============================] - 111s 630ms/step - loss: 0.1457 - accuracy: 0.8503 - val_loss: 0.2215 - val_accuracy: 0.7300\n",
            "Epoch 44/100\n",
            "176/176 [==============================] - 111s 630ms/step - loss: 0.1376 - accuracy: 0.8610 - val_loss: 0.2139 - val_accuracy: 0.7533\n",
            "Epoch 45/100\n",
            "176/176 [==============================] - 111s 630ms/step - loss: 0.1360 - accuracy: 0.8594 - val_loss: 0.2126 - val_accuracy: 0.7500\n",
            "Epoch 46/100\n",
            "176/176 [==============================] - 111s 630ms/step - loss: 0.1317 - accuracy: 0.8685 - val_loss: 0.2156 - val_accuracy: 0.7283\n",
            "Epoch 47/100\n",
            "176/176 [==============================] - 111s 630ms/step - loss: 0.1256 - accuracy: 0.8796 - val_loss: 0.2098 - val_accuracy: 0.7483\n",
            "Epoch 48/100\n",
            "176/176 [==============================] - 111s 630ms/step - loss: 0.1250 - accuracy: 0.8799 - val_loss: 0.2112 - val_accuracy: 0.7350\n",
            "Epoch 49/100\n",
            "176/176 [==============================] - 111s 632ms/step - loss: 0.1207 - accuracy: 0.8799 - val_loss: 0.2100 - val_accuracy: 0.7567\n",
            "Epoch 50/100\n",
            "176/176 [==============================] - 111s 630ms/step - loss: 0.1156 - accuracy: 0.8911 - val_loss: 0.2135 - val_accuracy: 0.7483\n",
            "Epoch 51/100\n",
            "176/176 [==============================] - 111s 630ms/step - loss: 0.1138 - accuracy: 0.8927 - val_loss: 0.2016 - val_accuracy: 0.7667\n",
            "Epoch 52/100\n",
            "176/176 [==============================] - 111s 630ms/step - loss: 0.1103 - accuracy: 0.8967 - val_loss: 0.2073 - val_accuracy: 0.7567\n",
            "Epoch 53/100\n",
            "176/176 [==============================] - 111s 629ms/step - loss: 0.1051 - accuracy: 0.9058 - val_loss: 0.2152 - val_accuracy: 0.7450\n",
            "Epoch 54/100\n",
            "176/176 [==============================] - 111s 630ms/step - loss: 0.1027 - accuracy: 0.9045 - val_loss: 0.1997 - val_accuracy: 0.7683\n",
            "Epoch 55/100\n",
            "176/176 [==============================] - 111s 630ms/step - loss: 0.1019 - accuracy: 0.9042 - val_loss: 0.2014 - val_accuracy: 0.7633\n",
            "Epoch 56/100\n",
            "176/176 [==============================] - 111s 630ms/step - loss: 0.1019 - accuracy: 0.9066 - val_loss: 0.2024 - val_accuracy: 0.7483\n",
            "Epoch 57/100\n",
            "176/176 [==============================] - 111s 630ms/step - loss: 0.0956 - accuracy: 0.9125 - val_loss: 0.2008 - val_accuracy: 0.7833\n",
            "Epoch 58/100\n",
            "176/176 [==============================] - 111s 631ms/step - loss: 0.0909 - accuracy: 0.9230 - val_loss: 0.1974 - val_accuracy: 0.7717\n",
            "Epoch 59/100\n",
            "176/176 [==============================] - 111s 629ms/step - loss: 0.0870 - accuracy: 0.9278 - val_loss: 0.2061 - val_accuracy: 0.7733\n",
            "Epoch 60/100\n",
            "176/176 [==============================] - 111s 630ms/step - loss: 0.0884 - accuracy: 0.9262 - val_loss: 0.2002 - val_accuracy: 0.7683\n",
            "Epoch 61/100\n",
            "176/176 [==============================] - 111s 630ms/step - loss: 0.0828 - accuracy: 0.9323 - val_loss: 0.2033 - val_accuracy: 0.7617\n",
            "Epoch 62/100\n",
            "176/176 [==============================] - 111s 630ms/step - loss: 0.0829 - accuracy: 0.9341 - val_loss: 0.2085 - val_accuracy: 0.7567\n",
            "Epoch 63/100\n",
            "176/176 [==============================] - 111s 630ms/step - loss: 0.0806 - accuracy: 0.9371 - val_loss: 0.2028 - val_accuracy: 0.7767\n"
          ]
        }
      ]
    },
    {
      "cell_type": "code",
      "source": [
        "model.save(\"/content/drive/MyDrive/project/final models/gabor-nette-batchdrop02.h5\")"
      ],
      "metadata": {
        "id": "nGyntP5Nk1ES"
      },
      "execution_count": null,
      "outputs": []
    },
    {
      "cell_type": "code",
      "source": [
        "import matplotlib.pyplot as plt\n",
        "plt.plot(hist.history[\"accuracy\"])\n",
        "plt.plot(hist.history['val_accuracy'])\n",
        "plt.plot(hist.history['loss'])\n",
        "plt.plot(hist.history['val_loss'])\n",
        "plt.title(\"model accuracy\")\n",
        "plt.ylabel(\"Accuracy\")\n",
        "plt.xlabel(\"Epoch\")\n",
        "plt.legend([\"Accuracy\",\"Validation Accuracy\",\"loss\",\"Validation Loss\"])\n",
        "plt.show()"
      ],
      "metadata": {
        "id": "Np3iSopTkzKt",
        "colab": {
          "base_uri": "https://localhost:8080/",
          "height": 295
        },
        "outputId": "ec24d95a-e34c-4935-9ffa-245389941021"
      },
      "execution_count": null,
      "outputs": [
        {
          "output_type": "display_data",
          "data": {
            "text/plain": [
              "<Figure size 432x288 with 1 Axes>"
            ],
            "image/png": "[encoded data removed]"
          },
          "metadata": {
            "needs_background": "light"
          }
        }
      ]
    },
    {
      "cell_type": "code",
      "source": [
        "plt.plot(hist.history['loss'])\n",
        "plt.plot(hist.history['val_loss'])\n",
        "plt.legend([\"loss\",\"Validation Loss\"])\n",
        "plt.title('model loss')\n",
        "plt.ylabel('loss')\n",
        "plt.xlabel('epoch')"
      ],
      "metadata": {
        "id": "W9y8-9L2k0xr",
        "colab": {
          "base_uri": "https://localhost:8080/",
          "height": 313
        },
        "outputId": "51439070-d6f8-4572-ef6f-0636cca918a0"
      },
      "execution_count": null,
      "outputs": [
        {
          "output_type": "execute_result",
          "data": {
            "text/plain": [
              "Text(0.5, 0, 'epoch')"
            ]
          },
          "metadata": {},
          "execution_count": 10
        },
        {
          "output_type": "display_data",
          "data": {
            "text/plain": [
              "<Figure size 432x288 with 1 Axes>"
            ],
            "image/png": "[encoded data removed]"
          },
          "metadata": {
            "needs_background": "light"
          }
        }
      ]
    },
    {
      "cell_type": "code",
      "source": [
        "#predict the label for one image\n",
        "from keras.preprocessing import image\n",
        "img = image.load_img(\"/...path...\",target_size=(224,224))\n",
        "img = np.asarray(img)\n",
        "#plt.imshow(img)\n",
        "img = np.expand_dims(img, axis=0)\n",
        "from keras.models import load_model\n",
        "saved_model = load_model(\"/...path.../model-name.h5\")\n",
        "output = saved_model.predict(img)\n"
      ],
      "metadata": {
        "id": "10YXsdk6k64I"
      },
      "execution_count": null,
      "outputs": []
    },
    {
      "cell_type": "code",
      "source": [
        "testdata1 = tsdata.flow_from_directory(directory=\"/...path...\", target_size=(244,244))\n",
        "testdata2 = tsdata.flow_from_directory(directory=\"/...path...\", target_size=(244,244))\n",
        "testdata3 = tsdata.flow_from_directory(directory=\"/...path...\", target_size=(244,244))\n",
        "testdata4 = tsdata.flow_from_directory(directory=\"/...path...\", target_size=(244,244))\n",
        "testdata5 = tsdata.flow_from_directory(directory=\"/...path...\", target_size=(244,244))\n",
        "testdata6 = tsdata.flow_from_directory(directory=\"/...path...\", target_size=(244,244))\n",
        "testdata7 = tsdata.flow_from_directory(directory=\"/...path... \", target_size=(244,244))"
      ],
      "metadata": {
        "colab": {
          "base_uri": "https://localhost:8080/"
        },
        "id": "uXAEgDnwOQ8A",
        "outputId": "e99de9a1-cdd6-4647-a6e7-4c4f3dc06137"
      },
      "execution_count": null,
      "outputs": [
        {
          "output_type": "stream",
          "name": "stdout",
          "text": [
            "Found 600 images belonging to 6 classes.\n",
            "Found 600 images belonging to 6 classes.\n",
            "Found 600 images belonging to 6 classes.\n",
            "Found 600 images belonging to 6 classes.\n",
            "Found 600 images belonging to 6 classes.\n",
            "Found 600 images belonging to 6 classes.\n",
            "Found 60 images belonging to 6 classes.\n"
          ]
        }
      ]
    },
    {
      "cell_type": "code",
      "source": [
        "#test the model on different datasets\n",
        "print(\"evaluation on original test dataset: \")\n",
        "a=model.evaluate(testdata1)\n",
        "print(\"evaluation on stylized test dataset: \")\n",
        "b=model.evaluate(testdata2)\n",
        "print(\"evaluation on gaussian noise test dataset (Standard deviation = 0.001): \")\n",
        "e=model.evaluate(testdata5)\n",
        "print(\"evaluation on gaussian noise test dataset (Standard deviation = 0.01): \")\n",
        "d=model.evaluate(testdata4)\n",
        "print(\"evaluation on gaussian noise test dataset (Standard deviation = 0.1): \")\n",
        "c=model.evaluate(testdata3)\n",
        "print(\"evaluation on edges test dataset: \")\n",
        "f=model.evaluate(testdata6)\n",
        "print(\"evaluation on o.o.d. test dataset: \")\n",
        "g=model.evaluate(testdata7)\n"
      ],
      "metadata": {
        "id": "OQtgcMBFyEBM",
        "colab": {
          "base_uri": "https://localhost:8080/"
        },
        "outputId": "04da7627-d953-4893-eeae-af0486450cf9"
      },
      "execution_count": null,
      "outputs": [
        {
          "output_type": "stream",
          "name": "stdout",
          "text": [
            "evaluation on original test dataset: \n",
            "19/19 [==============================] - 4s 196ms/step - loss: 0.1974 - accuracy: 0.7717\n",
            "evaluation on stylized test dataset: \n",
            "19/19 [==============================] - 441s 24s/step - loss: 0.5111 - accuracy: 0.4183\n",
            "evaluation on gaussian noise test dataset (Standard deviation = 0.001): \n",
            "19/19 [==============================] - 477s 26s/step - loss: 0.2320 - accuracy: 0.7083\n",
            "evaluation on gaussian noise test dataset (Standard deviation = 0.01): \n",
            "19/19 [==============================] - 471s 26s/step - loss: 0.2884 - accuracy: 0.6133\n",
            "evaluation on gaussian noise test dataset (Standard deviation = 0.1): \n",
            "19/19 [==============================] - 471s 26s/step - loss: 0.4888 - accuracy: 0.3650\n",
            "evaluation on edges test dataset: \n",
            "19/19 [==============================] - 470s 26s/step - loss: 0.8312 - accuracy: 0.2300\n",
            "evaluation on o.o.d. test dataset: \n",
            "2/2 [==============================] - 31s 30s/step - loss: 0.4380 - accuracy: 0.5500\n"
          ]
        }
      ]
    },
    {
      "cell_type": "code",
      "source": [
        "#convert images to jpg (replace the last * in -->glob.glob(\"/content/drive/MyDrive/...path.../*.*\") with the specific file format if the original file format is the same for all images in that folder (eg JPEG/PNG etc))\n",
        "from PIL import Image\n",
        "import os\n",
        "import glob\n",
        "import cv2\n",
        "j=0\n",
        "for i in glob.glob(\"/content/drive/...folder path.../*.*\"):\n",
        "  j=j+1\n",
        "  im = Image.open(i)\n",
        "  rgb_im = im.convert(\"RGB\")\n",
        "  rgb_im.save(\"/content/drive/MyDrive/...folder path.../\" + str(j) + \".jpg\")"
      ],
      "metadata": {
        "id": "KZLTHgpt5I86"
      },
      "execution_count": null,
      "outputs": []
    }
  ]
}